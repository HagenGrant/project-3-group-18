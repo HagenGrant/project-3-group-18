{
 "cells": [
  {
   "cell_type": "code",
   "execution_count": 1,
   "id": "061fc16e-f95d-44b1-b14e-ea03a304bbe8",
   "metadata": {},
   "outputs": [],
   "source": [
    "# data science\n",
    "import matplotlib.pyplot as plt\n",
    "import pandas as pd\n",
    "import numpy as np\n",
    "import seaborn as sns\n",
    "import datetime\n",
    "\n",
    "# API\n",
    "import requests\n",
    "import json\n",
    "\n",
    "# Python SQL toolkit and Object Relational Mapper\n",
    "import sqlalchemy\n",
    "from sqlalchemy.ext.automap import automap_base\n",
    "from sqlalchemy.orm import Session\n",
    "from sqlalchemy import create_engine, text, inspect, func"
   ]
  },
  {
   "cell_type": "code",
   "execution_count": 2,
   "id": "091de6ec-ef60-4ef2-9a1c-64e3674e0ff4",
   "metadata": {},
   "outputs": [],
   "source": [
    "# Create engine using the `tornadoes_clean` database file\n",
    "engine = create_engine(\"sqlite:///tornadoes_clean.sqlite\")"
   ]
  },
  {
   "cell_type": "code",
   "execution_count": 3,
   "id": "b16102df-d827-402e-831d-cfa964d95bee",
   "metadata": {},
   "outputs": [],
   "source": [
    "#Import the clean dataset\n",
    "file = \"tornadoes_clean.csv\"\n",
    "df = pd.read_csv(file, encoding=\"cp1252\")"
   ]
  },
  {
   "cell_type": "code",
   "execution_count": 4,
   "id": "9b01751c-8699-439e-aa30-2458753e9204",
   "metadata": {},
   "outputs": [
    {
     "data": {
      "text/plain": [
       "8586"
      ]
     },
     "execution_count": 4,
     "metadata": {},
     "output_type": "execute_result"
    }
   ],
   "source": [
    "# write to the database\n",
    "df.to_sql(\"tornadoes\", con=engine, index=False, method=\"multi\", if_exists=\"replace\")"
   ]
  },
  {
   "cell_type": "code",
   "execution_count": 5,
   "id": "abbf7542-0f05-40b8-b2ba-919f01b5aa98",
   "metadata": {},
   "outputs": [
    {
     "name": "stdout",
     "output_type": "stream",
     "text": [
      "tornadoes\n",
      "-----------\n",
      "id BIGINT\n",
      "tornado_id BIGINT\n",
      "yr BIGINT\n",
      "month BIGINT\n",
      "date TEXT\n",
      "state TEXT\n",
      "category FLOAT\n",
      "injuries BIGINT\n",
      "fatalities BIGINT\n",
      "loss FLOAT\n",
      "start_lat FLOAT\n",
      "start_longitude FLOAT\n",
      "end_latitude FLOAT\n",
      "end_longitude FLOAT\n",
      "distance_traveled FLOAT\n",
      "width BIGINT\n",
      "seasons TEXT\n",
      "\n"
     ]
    }
   ],
   "source": [
    "# INSPECT to confirm existence\n",
    "\n",
    "# Create the inspector and connect it to the engine\n",
    "inspector_gadget = inspect(engine)\n",
    "\n",
    "# Collect the names of tables within the database\n",
    "tables = inspector_gadget.get_table_names()\n",
    "\n",
    "# print metadata for each table\n",
    "for table in tables:\n",
    "    print(table)\n",
    "    print(\"-----------\")\n",
    "    \n",
    "    # get columns\n",
    "    columns = inspector_gadget.get_columns(table)\n",
    "    for column in columns:\n",
    "        print(column[\"name\"], column[\"type\"])\n",
    "\n",
    "    print()"
   ]
  },
  {
   "cell_type": "code",
   "execution_count": 6,
   "id": "c2e1f8e4-bf17-44ee-a03c-4cfbf9fa4903",
   "metadata": {},
   "outputs": [],
   "source": [
    "# close the engine\n",
    "engine.dispose()"
   ]
  }
 ],
 "metadata": {
  "kernelspec": {
   "display_name": "Python 3 (ipykernel)",
   "language": "python",
   "name": "python3"
  },
  "language_info": {
   "codemirror_mode": {
    "name": "ipython",
    "version": 3
   },
   "file_extension": ".py",
   "mimetype": "text/x-python",
   "name": "python",
   "nbconvert_exporter": "python",
   "pygments_lexer": "ipython3",
   "version": "3.10.14"
  }
 },
 "nbformat": 4,
 "nbformat_minor": 5
}
